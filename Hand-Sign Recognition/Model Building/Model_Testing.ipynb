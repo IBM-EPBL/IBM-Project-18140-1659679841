{
  "cells": [
    {
      "cell_type": "markdown",
      "metadata": {
        "id": "lqFQ5xEFfApf"
      },
      "source": [
        "# Gesture Based Tool for Sterile Browsing of Radiology Images\n"
      ]
    },
    {
      "cell_type": "markdown",
      "source": [
        "In this project we have used Convolutional Neural Network to first train the model on the images of different hand gestures, like showing numbers with fingers as 0,1,2,3,4,5. Then we made a web portal using Flask where user can input any image on which he wants to perform the operations. After uploading the image, our portal uses the integrated webcam to capture the video frame using OpenCV. The gesture captured in the video frame is compared with the Pre-trained model and the gesture is identified. If the prediction is 0 - then images is converted into rectangle, 1 - image is Resized into (200,200), 2 - image is rotated by -45॰, 3 - image is blurred , 4 - image is Resized into (400,400) , 5 - image is converted into grayscale."
      ],
      "metadata": {
        "id": "gp6pGNiz024M"
      }
    },
    {
      "cell_type": "markdown",
      "source": [
        "## Model Testing"
      ],
      "metadata": {
        "id": "3WLruN0Z0gbH"
      }
    },
    {
      "cell_type": "markdown",
      "metadata": {
        "id": "gXim3knefZo1"
      },
      "source": [
        "## Import Libraries"
      ]
    },
    {
      "cell_type": "code",
      "execution_count": null,
      "metadata": {
        "id": "P7JKbF1efg7C"
      },
      "outputs": [],
      "source": [
        "# This library helps add support for large, multi-dimensional arrays and matrices\n",
        "import numpy as np\n",
        "#open source used for both ML and DL for computation\n",
        "import tensorflow as tf\n",
        "#it is a plain stack of layers\n",
        "from tensorflow.keras.models import Sequential \n",
        "#Dense layer is the regular deeply connected neural network layer\n",
        "from tensorflow.keras.layers import Dense,Flatten, Dropout\n",
        "#Faltten-used fot flattening the input or change the dimension, MaxPooling2D-for downsampling the image for Convolutional layer\n",
        "from tensorflow.keras.layers import Convolution2D,MaxPooling2D \n",
        "#Its used for different augmentation of the image \n",
        "from tensorflow.keras.preprocessing.image import ImageDataGenerator"
      ]
    },
    {
      "cell_type": "markdown",
      "metadata": {
        "id": "oh3opBCOfnkL"
      },
      "source": [
        "## Augmentation the Data"
      ]
    },
    {
      "cell_type": "code",
      "execution_count": null,
      "metadata": {
        "id": "gFPyYnZj56KD"
      },
      "outputs": [],
      "source": [
        "#setting parameter for Image Data agumentation to the traing data\n",
        "train_datagen = ImageDataGenerator(rescale=1./255,\n",
        "                                   shear_range=0.2,\n",
        "                                   zoom_range=0.2,\n",
        "                                   horizontal_flip=True)\n",
        "#Image Data agumentation to the testing data\n",
        "test_datagen=ImageDataGenerator(rescale=1./255)"
      ]
    },
    {
      "cell_type": "code",
      "execution_count": null,
      "metadata": {
        "colab": {
          "base_uri": "https://localhost:8080/"
        },
        "id": "J-bOJo_K6IhK",
        "outputId": "bde23145-c331-448b-bdcb-b342c4e62321"
      },
      "outputs": [
        {
          "output_type": "stream",
          "name": "stdout",
          "text": [
            "Archive:  Dataset.zip\n",
            "   creating: Dataset/test/\n",
            "   creating: Dataset/test/0/\n",
            "  inflating: Dataset/test/0/0.jpg    \n",
            "  inflating: Dataset/test/0/1.jpg    \n",
            "  inflating: Dataset/test/0/2.jpg    \n",
            "  inflating: Dataset/test/0/3.jpg    \n",
            "  inflating: Dataset/test/0/4.jpg    \n",
            "   creating: Dataset/test/1/\n",
            "  inflating: Dataset/test/1/0.jpg    \n",
            "  inflating: Dataset/test/1/1.jpg    \n",
            "  inflating: Dataset/test/1/2.jpg    \n",
            "  inflating: Dataset/test/1/3.jpg    \n",
            "  inflating: Dataset/test/1/4.jpg    \n",
            "   creating: Dataset/test/2/\n",
            "  inflating: Dataset/test/2/0.jpg    \n",
            "  inflating: Dataset/test/2/1.jpg    \n",
            "  inflating: Dataset/test/2/2.jpg    \n",
            "  inflating: Dataset/test/2/3.jpg    \n",
            "  inflating: Dataset/test/2/4.jpg    \n",
            "   creating: Dataset/test/3/\n",
            "  inflating: Dataset/test/3/0.jpg    \n",
            "  inflating: Dataset/test/3/1.jpg    \n",
            "  inflating: Dataset/test/3/2.jpg    \n",
            "  inflating: Dataset/test/3/3.jpg    \n",
            "  inflating: Dataset/test/3/4.jpg    \n",
            "   creating: Dataset/test/4/\n",
            "  inflating: Dataset/test/4/0.jpg    \n",
            "  inflating: Dataset/test/4/1.jpg    \n",
            "  inflating: Dataset/test/4/2.jpg    \n",
            "  inflating: Dataset/test/4/3.jpg    \n",
            "  inflating: Dataset/test/4/4.jpg    \n",
            "   creating: Dataset/test/5/\n",
            "  inflating: Dataset/test/5/0.jpg    \n",
            "  inflating: Dataset/test/5/1.jpg    \n",
            "  inflating: Dataset/test/5/2.jpg    \n",
            "  inflating: Dataset/test/5/3.jpg    \n",
            "  inflating: Dataset/test/5/4.jpg    \n",
            "   creating: Dataset/train/\n",
            "   creating: Dataset/train/0/\n",
            "  inflating: Dataset/train/0/1.jpg   \n",
            "  inflating: Dataset/train/0/10.jpg  \n",
            "  inflating: Dataset/train/0/11.jpg  \n",
            "  inflating: Dataset/train/0/12.jpg  \n",
            "  inflating: Dataset/train/0/13.jpg  \n",
            "  inflating: Dataset/train/0/14.jpg  \n",
            "  inflating: Dataset/train/0/15.jpg  \n",
            "  inflating: Dataset/train/0/16.jpg  \n",
            "  inflating: Dataset/train/0/17.jpg  \n",
            "  inflating: Dataset/train/0/18.jpg  \n",
            "  inflating: Dataset/train/0/19.jpg  \n",
            "  inflating: Dataset/train/0/2.jpg   \n",
            "  inflating: Dataset/train/0/20.jpg  \n",
            "  inflating: Dataset/train/0/21.jpg  \n",
            "  inflating: Dataset/train/0/22.jpg  \n",
            "  inflating: Dataset/train/0/23.jpg  \n",
            "  inflating: Dataset/train/0/24.jpg  \n",
            " extracting: Dataset/train/0/25.jpg  \n",
            " extracting: Dataset/train/0/26.jpg  \n",
            "  inflating: Dataset/train/0/27.jpg  \n",
            " extracting: Dataset/train/0/28.jpg  \n",
            " extracting: Dataset/train/0/29.jpg  \n",
            "  inflating: Dataset/train/0/3.jpg   \n",
            "  inflating: Dataset/train/0/30.jpg  \n",
            " extracting: Dataset/train/0/31.jpg  \n",
            " extracting: Dataset/train/0/32.jpg  \n",
            " extracting: Dataset/train/0/33.jpg  \n",
            " extracting: Dataset/train/0/34.jpg  \n",
            " extracting: Dataset/train/0/35.jpg  \n",
            "  inflating: Dataset/train/0/36.jpg  \n",
            " extracting: Dataset/train/0/37.jpg  \n",
            " extracting: Dataset/train/0/38.jpg  \n",
            "  inflating: Dataset/train/0/39.jpg  \n",
            "  inflating: Dataset/train/0/4.jpg   \n",
            " extracting: Dataset/train/0/40.jpg  \n",
            " extracting: Dataset/train/0/41.jpg  \n",
            "  inflating: Dataset/train/0/42.jpg  \n",
            " extracting: Dataset/train/0/43.jpg  \n",
            "  inflating: Dataset/train/0/44.jpg  \n",
            " extracting: Dataset/train/0/45.jpg  \n",
            " extracting: Dataset/train/0/46.jpg  \n",
            " extracting: Dataset/train/0/47.jpg  \n",
            " extracting: Dataset/train/0/48.jpg  \n",
            " extracting: Dataset/train/0/49.jpg  \n",
            "  inflating: Dataset/train/0/5.jpg   \n",
            " extracting: Dataset/train/0/50.jpg  \n",
            " extracting: Dataset/train/0/51.jpg  \n",
            "  inflating: Dataset/train/0/52.jpg  \n",
            " extracting: Dataset/train/0/53.jpg  \n",
            " extracting: Dataset/train/0/54.jpg  \n",
            " extracting: Dataset/train/0/55.jpg  \n",
            "  inflating: Dataset/train/0/56.jpg  \n",
            " extracting: Dataset/train/0/57.jpg  \n",
            "  inflating: Dataset/train/0/58.jpg  \n",
            " extracting: Dataset/train/0/59.jpg  \n",
            "  inflating: Dataset/train/0/6.jpg   \n",
            " extracting: Dataset/train/0/60.jpg  \n",
            " extracting: Dataset/train/0/61.jpg  \n",
            " extracting: Dataset/train/0/62.jpg  \n",
            " extracting: Dataset/train/0/63.jpg  \n",
            "  inflating: Dataset/train/0/64.jpg  \n",
            "  inflating: Dataset/train/0/65.jpg  \n",
            "  inflating: Dataset/train/0/66.jpg  \n",
            " extracting: Dataset/train/0/67.jpg  \n",
            "  inflating: Dataset/train/0/68.jpg  \n",
            "  inflating: Dataset/train/0/69.jpg  \n",
            "  inflating: Dataset/train/0/7.jpg   \n",
            " extracting: Dataset/train/0/70.jpg  \n",
            "  inflating: Dataset/train/0/71.jpg  \n",
            "  inflating: Dataset/train/0/72.jpg  \n",
            "  inflating: Dataset/train/0/73.jpg  \n",
            "  inflating: Dataset/train/0/74.jpg  \n",
            " extracting: Dataset/train/0/75.jpg  \n",
            "  inflating: Dataset/train/0/76.jpg  \n",
            "  inflating: Dataset/train/0/77.jpg  \n",
            "  inflating: Dataset/train/0/78.jpg  \n",
            " extracting: Dataset/train/0/79.jpg  \n",
            "  inflating: Dataset/train/0/8.jpg   \n",
            " extracting: Dataset/train/0/80.jpg  \n",
            " extracting: Dataset/train/0/81.jpg  \n",
            " extracting: Dataset/train/0/82.jpg  \n",
            "  inflating: Dataset/train/0/83.jpg  \n",
            " extracting: Dataset/train/0/84.jpg  \n",
            "  inflating: Dataset/train/0/85.jpg  \n",
            "  inflating: Dataset/train/0/86.jpg  \n",
            " extracting: Dataset/train/0/87.jpg  \n",
            "  inflating: Dataset/train/0/88.jpg  \n",
            " extracting: Dataset/train/0/89.jpg  \n",
            "  inflating: Dataset/train/0/9.jpg   \n",
            " extracting: Dataset/train/0/90.jpg  \n",
            "  inflating: Dataset/train/0/91.jpg  \n",
            " extracting: Dataset/train/0/92.jpg  \n",
            "  inflating: Dataset/train/0/93.jpg  \n",
            " extracting: Dataset/train/0/94.jpg  \n",
            " extracting: Dataset/train/0/95.jpg  \n",
            "  inflating: Dataset/train/0/96.jpg  \n",
            "  inflating: Dataset/train/0/97.jpg  \n",
            " extracting: Dataset/train/0/98.jpg  \n",
            " extracting: Dataset/train/0/99.jpg  \n",
            "   creating: Dataset/train/1/\n",
            "  inflating: Dataset/train/1/1.jpg   \n",
            "  inflating: Dataset/train/1/10.jpg  \n",
            "  inflating: Dataset/train/1/11.jpg  \n",
            "  inflating: Dataset/train/1/12.jpg  \n",
            "  inflating: Dataset/train/1/13.jpg  \n",
            "  inflating: Dataset/train/1/14.jpg  \n",
            "  inflating: Dataset/train/1/15.jpg  \n",
            "  inflating: Dataset/train/1/16.jpg  \n",
            "  inflating: Dataset/train/1/17.jpg  \n",
            "  inflating: Dataset/train/1/18.jpg  \n",
            "  inflating: Dataset/train/1/19.jpg  \n",
            "  inflating: Dataset/train/1/2.jpg   \n",
            "  inflating: Dataset/train/1/20.jpg  \n",
            "  inflating: Dataset/train/1/21.jpg  \n",
            "  inflating: Dataset/train/1/22.jpg  \n",
            "  inflating: Dataset/train/1/23.jpg  \n",
            "  inflating: Dataset/train/1/24.jpg  \n",
            " extracting: Dataset/train/1/25.jpg  \n",
            " extracting: Dataset/train/1/26.jpg  \n",
            " extracting: Dataset/train/1/27.jpg  \n",
            " extracting: Dataset/train/1/28.jpg  \n",
            " extracting: Dataset/train/1/29.jpg  \n",
            "  inflating: Dataset/train/1/3.jpg   \n",
            "  inflating: Dataset/train/1/30.jpg  \n",
            "  inflating: Dataset/train/1/31.jpg  \n",
            " extracting: Dataset/train/1/32.jpg  \n",
            "  inflating: Dataset/train/1/33.jpg  \n",
            " extracting: Dataset/train/1/34.jpg  \n",
            " extracting: Dataset/train/1/35.jpg  \n",
            " extracting: Dataset/train/1/36.jpg  \n",
            " extracting: Dataset/train/1/37.jpg  \n",
            "  inflating: Dataset/train/1/38.jpg  \n",
            "  inflating: Dataset/train/1/39.jpg  \n",
            "  inflating: Dataset/train/1/4.jpg   \n",
            "  inflating: Dataset/train/1/40.jpg  \n",
            "  inflating: Dataset/train/1/41.jpg  \n",
            "  inflating: Dataset/train/1/42.jpg  \n",
            "  inflating: Dataset/train/1/43.jpg  \n",
            "  inflating: Dataset/train/1/44.jpg  \n",
            "  inflating: Dataset/train/1/45.jpg  \n",
            "  inflating: Dataset/train/1/46.jpg  \n",
            " extracting: Dataset/train/1/47.jpg  \n",
            " extracting: Dataset/train/1/48.jpg  \n",
            " extracting: Dataset/train/1/49.jpg  \n",
            "  inflating: Dataset/train/1/5.jpg   \n",
            " extracting: Dataset/train/1/50.jpg  \n",
            " extracting: Dataset/train/1/51.jpg  \n",
            "  inflating: Dataset/train/1/52.jpg  \n",
            "  inflating: Dataset/train/1/53.jpg  \n",
            "  inflating: Dataset/train/1/54.jpg  \n",
            " extracting: Dataset/train/1/55.jpg  \n",
            "  inflating: Dataset/train/1/56.jpg  \n",
            "  inflating: Dataset/train/1/57.jpg  \n",
            " extracting: Dataset/train/1/58.jpg  \n",
            "  inflating: Dataset/train/1/59.jpg  \n",
            "  inflating: Dataset/train/1/6.jpg   \n",
            "  inflating: Dataset/train/1/60.jpg  \n",
            " extracting: Dataset/train/1/61.jpg  \n",
            "  inflating: Dataset/train/1/62.jpg  \n",
            "  inflating: Dataset/train/1/63.jpg  \n",
            " extracting: Dataset/train/1/64.jpg  \n",
            " extracting: Dataset/train/1/65.jpg  \n",
            "  inflating: Dataset/train/1/66.jpg  \n",
            " extracting: Dataset/train/1/67.jpg  \n",
            " extracting: Dataset/train/1/68.jpg  \n",
            "  inflating: Dataset/train/1/69.jpg  \n",
            "  inflating: Dataset/train/1/7.jpg   \n",
            "  inflating: Dataset/train/1/70.jpg  \n",
            "  inflating: Dataset/train/1/71.jpg  \n",
            "  inflating: Dataset/train/1/72.jpg  \n",
            " extracting: Dataset/train/1/73.jpg  \n",
            " extracting: Dataset/train/1/74.jpg  \n",
            "  inflating: Dataset/train/1/75.jpg  \n",
            "  inflating: Dataset/train/1/76.jpg  \n",
            "  inflating: Dataset/train/1/77.jpg  \n",
            " extracting: Dataset/train/1/78.jpg  \n",
            "  inflating: Dataset/train/1/79.jpg  \n",
            "  inflating: Dataset/train/1/8.jpg   \n",
            "  inflating: Dataset/train/1/80.jpg  \n",
            " extracting: Dataset/train/1/81.jpg  \n",
            " extracting: Dataset/train/1/82.jpg  \n",
            "  inflating: Dataset/train/1/83.jpg  \n",
            " extracting: Dataset/train/1/84.jpg  \n",
            "  inflating: Dataset/train/1/85.jpg  \n",
            "  inflating: Dataset/train/1/86.jpg  \n",
            " extracting: Dataset/train/1/87.jpg  \n",
            "  inflating: Dataset/train/1/88.jpg  \n",
            "  inflating: Dataset/train/1/89.jpg  \n",
            "  inflating: Dataset/train/1/9.jpg   \n",
            "  inflating: Dataset/train/1/90.jpg  \n",
            "  inflating: Dataset/train/1/91.jpg  \n",
            " extracting: Dataset/train/1/92.jpg  \n",
            " extracting: Dataset/train/1/93.jpg  \n",
            "  inflating: Dataset/train/1/94.jpg  \n",
            "  inflating: Dataset/train/1/95.jpg  \n",
            "  inflating: Dataset/train/1/96.jpg  \n",
            "  inflating: Dataset/train/1/97.jpg  \n",
            " extracting: Dataset/train/1/98.jpg  \n",
            "  inflating: Dataset/train/1/99.jpg  \n",
            "   creating: Dataset/train/2/\n",
            "  inflating: Dataset/train/2/1.jpg   \n",
            "  inflating: Dataset/train/2/10.jpg  \n",
            "  inflating: Dataset/train/2/11.jpg  \n",
            "  inflating: Dataset/train/2/12.jpg  \n",
            "  inflating: Dataset/train/2/13.jpg  \n",
            "  inflating: Dataset/train/2/14.jpg  \n",
            "  inflating: Dataset/train/2/15.jpg  \n",
            "  inflating: Dataset/train/2/16.jpg  \n",
            "  inflating: Dataset/train/2/17.jpg  \n",
            "  inflating: Dataset/train/2/18.jpg  \n",
            "  inflating: Dataset/train/2/19.jpg  \n",
            "  inflating: Dataset/train/2/2.jpg   \n",
            "  inflating: Dataset/train/2/20.jpg  \n",
            "  inflating: Dataset/train/2/21.jpg  \n",
            "  inflating: Dataset/train/2/22.jpg  \n",
            "  inflating: Dataset/train/2/23.jpg  \n",
            "  inflating: Dataset/train/2/24.jpg  \n",
            "  inflating: Dataset/train/2/25.jpg  \n",
            "  inflating: Dataset/train/2/26.jpg  \n",
            "  inflating: Dataset/train/2/27.jpg  \n",
            "  inflating: Dataset/train/2/28.jpg  \n",
            "  inflating: Dataset/train/2/29.jpg  \n",
            "  inflating: Dataset/train/2/3.jpg   \n",
            "  inflating: Dataset/train/2/30.jpg  \n",
            "  inflating: Dataset/train/2/31.jpg  \n",
            " extracting: Dataset/train/2/32.jpg  \n",
            " extracting: Dataset/train/2/33.jpg  \n",
            " extracting: Dataset/train/2/34.jpg  \n",
            "  inflating: Dataset/train/2/35.jpg  \n",
            "  inflating: Dataset/train/2/36.jpg  \n",
            " extracting: Dataset/train/2/37.jpg  \n",
            " extracting: Dataset/train/2/38.jpg  \n",
            "  inflating: Dataset/train/2/39.jpg  \n",
            "  inflating: Dataset/train/2/4.jpg   \n",
            "  inflating: Dataset/train/2/40.jpg  \n",
            " extracting: Dataset/train/2/41.jpg  \n",
            "  inflating: Dataset/train/2/42.jpg  \n",
            " extracting: Dataset/train/2/43.jpg  \n",
            "  inflating: Dataset/train/2/44.jpg  \n",
            "  inflating: Dataset/train/2/45.jpg  \n",
            " extracting: Dataset/train/2/46.jpg  \n",
            "  inflating: Dataset/train/2/47.jpg  \n",
            "  inflating: Dataset/train/2/48.jpg  \n",
            "  inflating: Dataset/train/2/49.jpg  \n",
            "  inflating: Dataset/train/2/5.jpg   \n",
            " extracting: Dataset/train/2/50.jpg  \n",
            "  inflating: Dataset/train/2/51.jpg  \n",
            "  inflating: Dataset/train/2/52.jpg  \n",
            " extracting: Dataset/train/2/53.jpg  \n",
            "  inflating: Dataset/train/2/54.jpg  \n",
            " extracting: Dataset/train/2/55.jpg  \n",
            "  inflating: Dataset/train/2/56.jpg  \n",
            "  inflating: Dataset/train/2/57.jpg  \n",
            " extracting: Dataset/train/2/58.jpg  \n",
            "  inflating: Dataset/train/2/59.jpg  \n",
            "  inflating: Dataset/train/2/6.jpg   \n",
            "  inflating: Dataset/train/2/60.jpg  \n",
            "  inflating: Dataset/train/2/61.jpg  \n",
            "  inflating: Dataset/train/2/62.jpg  \n",
            "  inflating: Dataset/train/2/63.jpg  \n",
            "  inflating: Dataset/train/2/64.jpg  \n",
            "  inflating: Dataset/train/2/65.jpg  \n",
            "  inflating: Dataset/train/2/66.jpg  \n",
            "  inflating: Dataset/train/2/67.jpg  \n",
            "  inflating: Dataset/train/2/68.jpg  \n",
            "  inflating: Dataset/train/2/69.jpg  \n",
            "  inflating: Dataset/train/2/7.jpg   \n",
            "  inflating: Dataset/train/2/70.jpg  \n",
            "  inflating: Dataset/train/2/71.jpg  \n",
            "  inflating: Dataset/train/2/72.jpg  \n",
            "  inflating: Dataset/train/2/73.jpg  \n",
            "  inflating: Dataset/train/2/74.jpg  \n",
            "  inflating: Dataset/train/2/75.jpg  \n",
            " extracting: Dataset/train/2/76.jpg  \n",
            "  inflating: Dataset/train/2/77.jpg  \n",
            "  inflating: Dataset/train/2/78.jpg  \n",
            "  inflating: Dataset/train/2/79.jpg  \n",
            "  inflating: Dataset/train/2/8.jpg   \n",
            "  inflating: Dataset/train/2/80.jpg  \n",
            "  inflating: Dataset/train/2/81.jpg  \n",
            "  inflating: Dataset/train/2/82.jpg  \n",
            " extracting: Dataset/train/2/83.jpg  \n",
            " extracting: Dataset/train/2/84.jpg  \n",
            "  inflating: Dataset/train/2/85.jpg  \n",
            "  inflating: Dataset/train/2/86.jpg  \n",
            "  inflating: Dataset/train/2/87.jpg  \n",
            " extracting: Dataset/train/2/88.jpg  \n",
            "  inflating: Dataset/train/2/89.jpg  \n",
            "  inflating: Dataset/train/2/9.jpg   \n",
            " extracting: Dataset/train/2/90.jpg  \n",
            "  inflating: Dataset/train/2/91.jpg  \n",
            " extracting: Dataset/train/2/92.jpg  \n",
            " extracting: Dataset/train/2/93.jpg  \n",
            "  inflating: Dataset/train/2/94.jpg  \n",
            " extracting: Dataset/train/2/95.jpg  \n",
            "  inflating: Dataset/train/2/96.jpg  \n",
            "  inflating: Dataset/train/2/97.jpg  \n",
            "  inflating: Dataset/train/2/98.jpg  \n",
            "  inflating: Dataset/train/2/99.jpg  \n",
            "   creating: Dataset/train/3/\n",
            "  inflating: Dataset/train/3/1.jpg   \n",
            "  inflating: Dataset/train/3/10.jpg  \n",
            "  inflating: Dataset/train/3/11.jpg  \n",
            "  inflating: Dataset/train/3/12.jpg  \n",
            "  inflating: Dataset/train/3/13.jpg  \n",
            "  inflating: Dataset/train/3/14.jpg  \n",
            "  inflating: Dataset/train/3/15.jpg  \n",
            "  inflating: Dataset/train/3/16.jpg  \n",
            "  inflating: Dataset/train/3/17.jpg  \n",
            "  inflating: Dataset/train/3/18.jpg  \n",
            "  inflating: Dataset/train/3/19.jpg  \n",
            "  inflating: Dataset/train/3/2.jpg   \n",
            "  inflating: Dataset/train/3/20.jpg  \n",
            "  inflating: Dataset/train/3/21.jpg  \n",
            "  inflating: Dataset/train/3/22.jpg  \n",
            "  inflating: Dataset/train/3/23.jpg  \n",
            "  inflating: Dataset/train/3/24.jpg  \n",
            " extracting: Dataset/train/3/25.jpg  \n",
            "  inflating: Dataset/train/3/26.jpg  \n",
            "  inflating: Dataset/train/3/27.jpg  \n",
            " extracting: Dataset/train/3/28.jpg  \n",
            " extracting: Dataset/train/3/29.jpg  \n",
            "  inflating: Dataset/train/3/3.jpg   \n",
            "  inflating: Dataset/train/3/30.jpg  \n",
            "  inflating: Dataset/train/3/31.jpg  \n",
            "  inflating: Dataset/train/3/32.jpg  \n",
            "  inflating: Dataset/train/3/33.jpg  \n",
            "  inflating: Dataset/train/3/34.jpg  \n",
            "  inflating: Dataset/train/3/35.jpg  \n",
            "  inflating: Dataset/train/3/36.jpg  \n",
            "  inflating: Dataset/train/3/37.jpg  \n",
            "  inflating: Dataset/train/3/38.jpg  \n",
            "  inflating: Dataset/train/3/39.jpg  \n",
            "  inflating: Dataset/train/3/4.jpg   \n",
            "  inflating: Dataset/train/3/40.jpg  \n",
            "  inflating: Dataset/train/3/41.jpg  \n",
            " extracting: Dataset/train/3/42.jpg  \n",
            "  inflating: Dataset/train/3/43.jpg  \n",
            "  inflating: Dataset/train/3/44.jpg  \n",
            "  inflating: Dataset/train/3/45.jpg  \n",
            "  inflating: Dataset/train/3/46.jpg  \n",
            "  inflating: Dataset/train/3/47.jpg  \n",
            "  inflating: Dataset/train/3/48.jpg  \n",
            "  inflating: Dataset/train/3/49.jpg  \n",
            "  inflating: Dataset/train/3/5.jpg   \n",
            "  inflating: Dataset/train/3/50.jpg  \n",
            " extracting: Dataset/train/3/51.jpg  \n",
            "  inflating: Dataset/train/3/52.jpg  \n",
            "  inflating: Dataset/train/3/53.jpg  \n",
            "  inflating: Dataset/train/3/54.jpg  \n",
            "  inflating: Dataset/train/3/55.jpg  \n",
            "  inflating: Dataset/train/3/56.jpg  \n",
            "  inflating: Dataset/train/3/57.jpg  \n",
            "  inflating: Dataset/train/3/58.jpg  \n",
            " extracting: Dataset/train/3/59.jpg  \n",
            "  inflating: Dataset/train/3/6.jpg   \n",
            "  inflating: Dataset/train/3/60.jpg  \n",
            "  inflating: Dataset/train/3/61.jpg  \n",
            "  inflating: Dataset/train/3/62.jpg  \n",
            " extracting: Dataset/train/3/63.jpg  \n",
            " extracting: Dataset/train/3/64.jpg  \n",
            "  inflating: Dataset/train/3/65.jpg  \n",
            " extracting: Dataset/train/3/66.jpg  \n",
            "  inflating: Dataset/train/3/67.jpg  \n",
            "  inflating: Dataset/train/3/68.jpg  \n",
            "  inflating: Dataset/train/3/69.jpg  \n",
            "  inflating: Dataset/train/3/7.jpg   \n",
            "  inflating: Dataset/train/3/70.jpg  \n",
            " extracting: Dataset/train/3/71.jpg  \n",
            " extracting: Dataset/train/3/72.jpg  \n",
            "  inflating: Dataset/train/3/73.jpg  \n",
            "  inflating: Dataset/train/3/74.jpg  \n",
            "  inflating: Dataset/train/3/75.jpg  \n",
            "  inflating: Dataset/train/3/76.jpg  \n",
            " extracting: Dataset/train/3/77.jpg  \n",
            " extracting: Dataset/train/3/78.jpg  \n",
            "  inflating: Dataset/train/3/79.jpg  \n",
            "  inflating: Dataset/train/3/8.jpg   \n",
            "  inflating: Dataset/train/3/80.jpg  \n",
            "  inflating: Dataset/train/3/81.jpg  \n",
            "  inflating: Dataset/train/3/82.jpg  \n",
            "  inflating: Dataset/train/3/83.jpg  \n",
            " extracting: Dataset/train/3/84.jpg  \n",
            " extracting: Dataset/train/3/85.jpg  \n",
            "  inflating: Dataset/train/3/86.jpg  \n",
            "  inflating: Dataset/train/3/87.jpg  \n",
            "  inflating: Dataset/train/3/88.jpg  \n",
            "  inflating: Dataset/train/3/89.jpg  \n",
            "  inflating: Dataset/train/3/9.jpg   \n",
            "  inflating: Dataset/train/3/90.jpg  \n",
            "  inflating: Dataset/train/3/91.jpg  \n",
            "  inflating: Dataset/train/3/92.jpg  \n",
            "  inflating: Dataset/train/3/93.jpg  \n",
            "  inflating: Dataset/train/3/94.jpg  \n",
            "  inflating: Dataset/train/3/95.jpg  \n",
            "  inflating: Dataset/train/3/96.jpg  \n",
            " extracting: Dataset/train/3/97.jpg  \n",
            " extracting: Dataset/train/3/98.jpg  \n",
            "  inflating: Dataset/train/3/99.jpg  \n",
            "   creating: Dataset/train/4/\n",
            "  inflating: Dataset/train/4/1.jpg   \n",
            "  inflating: Dataset/train/4/10.jpg  \n",
            "  inflating: Dataset/train/4/11.jpg  \n",
            "  inflating: Dataset/train/4/12.jpg  \n",
            "  inflating: Dataset/train/4/13.jpg  \n",
            "  inflating: Dataset/train/4/14.jpg  \n",
            "  inflating: Dataset/train/4/15.jpg  \n",
            "  inflating: Dataset/train/4/16.jpg  \n",
            "  inflating: Dataset/train/4/17.jpg  \n",
            "  inflating: Dataset/train/4/18.jpg  \n",
            "  inflating: Dataset/train/4/19.jpg  \n",
            "  inflating: Dataset/train/4/2.jpg   \n",
            "  inflating: Dataset/train/4/20.jpg  \n",
            "  inflating: Dataset/train/4/21.jpg  \n",
            "  inflating: Dataset/train/4/22.jpg  \n",
            "  inflating: Dataset/train/4/23.jpg  \n",
            "  inflating: Dataset/train/4/24.jpg  \n",
            "  inflating: Dataset/train/4/25.jpg  \n",
            " extracting: Dataset/train/4/26.jpg  \n",
            "  inflating: Dataset/train/4/27.jpg  \n",
            " extracting: Dataset/train/4/28.jpg  \n",
            "  inflating: Dataset/train/4/29.jpg  \n",
            "  inflating: Dataset/train/4/3.jpg   \n",
            "  inflating: Dataset/train/4/30.jpg  \n",
            "  inflating: Dataset/train/4/31.jpg  \n",
            "  inflating: Dataset/train/4/32.jpg  \n",
            "  inflating: Dataset/train/4/33.jpg  \n",
            "  inflating: Dataset/train/4/34.jpg  \n",
            "  inflating: Dataset/train/4/35.jpg  \n",
            "  inflating: Dataset/train/4/36.jpg  \n",
            "  inflating: Dataset/train/4/37.jpg  \n",
            "  inflating: Dataset/train/4/38.jpg  \n",
            "  inflating: Dataset/train/4/39.jpg  \n",
            "  inflating: Dataset/train/4/4.jpg   \n",
            "  inflating: Dataset/train/4/40.jpg  \n",
            "  inflating: Dataset/train/4/41.jpg  \n",
            "  inflating: Dataset/train/4/42.jpg  \n",
            "  inflating: Dataset/train/4/43.jpg  \n",
            "  inflating: Dataset/train/4/44.jpg  \n",
            "  inflating: Dataset/train/4/45.jpg  \n",
            "  inflating: Dataset/train/4/46.jpg  \n",
            "  inflating: Dataset/train/4/47.jpg  \n",
            "  inflating: Dataset/train/4/48.jpg  \n",
            " extracting: Dataset/train/4/49.jpg  \n",
            "  inflating: Dataset/train/4/5.jpg   \n",
            "  inflating: Dataset/train/4/50.jpg  \n",
            " extracting: Dataset/train/4/51.jpg  \n",
            "  inflating: Dataset/train/4/52.jpg  \n",
            " extracting: Dataset/train/4/53.jpg  \n",
            "  inflating: Dataset/train/4/54.jpg  \n",
            "  inflating: Dataset/train/4/55.jpg  \n",
            " extracting: Dataset/train/4/56.jpg  \n",
            "  inflating: Dataset/train/4/57.jpg  \n",
            "  inflating: Dataset/train/4/58.jpg  \n",
            " extracting: Dataset/train/4/59.jpg  \n",
            "  inflating: Dataset/train/4/6.jpg   \n",
            "  inflating: Dataset/train/4/60.jpg  \n",
            "  inflating: Dataset/train/4/61.jpg  \n",
            "  inflating: Dataset/train/4/62.jpg  \n",
            "  inflating: Dataset/train/4/63.jpg  \n",
            "  inflating: Dataset/train/4/64.jpg  \n",
            "  inflating: Dataset/train/4/65.jpg  \n",
            " extracting: Dataset/train/4/66.jpg  \n",
            "  inflating: Dataset/train/4/67.jpg  \n",
            "  inflating: Dataset/train/4/68.jpg  \n",
            "  inflating: Dataset/train/4/69.jpg  \n",
            "  inflating: Dataset/train/4/7.jpg   \n",
            "  inflating: Dataset/train/4/70.jpg  \n",
            " extracting: Dataset/train/4/71.jpg  \n",
            "  inflating: Dataset/train/4/72.jpg  \n",
            " extracting: Dataset/train/4/73.jpg  \n",
            "  inflating: Dataset/train/4/74.jpg  \n",
            "  inflating: Dataset/train/4/75.jpg  \n",
            "  inflating: Dataset/train/4/76.jpg  \n",
            "  inflating: Dataset/train/4/77.jpg  \n",
            "  inflating: Dataset/train/4/78.jpg  \n",
            "  inflating: Dataset/train/4/79.jpg  \n",
            "  inflating: Dataset/train/4/8.jpg   \n",
            "  inflating: Dataset/train/4/80.jpg  \n",
            " extracting: Dataset/train/4/81.jpg  \n",
            "  inflating: Dataset/train/4/82.jpg  \n",
            "  inflating: Dataset/train/4/83.jpg  \n",
            "  inflating: Dataset/train/4/84.jpg  \n",
            "  inflating: Dataset/train/4/85.jpg  \n",
            "  inflating: Dataset/train/4/86.jpg  \n",
            "  inflating: Dataset/train/4/87.jpg  \n",
            "  inflating: Dataset/train/4/88.jpg  \n",
            "  inflating: Dataset/train/4/89.jpg  \n",
            "  inflating: Dataset/train/4/9.jpg   \n",
            "  inflating: Dataset/train/4/90.jpg  \n",
            "  inflating: Dataset/train/4/91.jpg  \n",
            "  inflating: Dataset/train/4/92.jpg  \n",
            "  inflating: Dataset/train/4/93.jpg  \n",
            "  inflating: Dataset/train/4/94.jpg  \n",
            "  inflating: Dataset/train/4/95.jpg  \n",
            "  inflating: Dataset/train/4/96.jpg  \n",
            "  inflating: Dataset/train/4/97.jpg  \n",
            "  inflating: Dataset/train/4/98.jpg  \n",
            "  inflating: Dataset/train/4/99.jpg  \n",
            "   creating: Dataset/train/5/\n",
            "  inflating: Dataset/train/5/1.jpg   \n",
            "  inflating: Dataset/train/5/10.jpg  \n",
            "  inflating: Dataset/train/5/11.jpg  \n",
            "  inflating: Dataset/train/5/12.jpg  \n",
            "  inflating: Dataset/train/5/13.jpg  \n",
            "  inflating: Dataset/train/5/14.jpg  \n",
            "  inflating: Dataset/train/5/15.jpg  \n",
            "  inflating: Dataset/train/5/16.jpg  \n",
            "  inflating: Dataset/train/5/17.jpg  \n",
            "  inflating: Dataset/train/5/18.jpg  \n",
            "  inflating: Dataset/train/5/19.jpg  \n",
            "  inflating: Dataset/train/5/2.jpg   \n",
            "  inflating: Dataset/train/5/20.jpg  \n",
            "  inflating: Dataset/train/5/21.jpg  \n",
            "  inflating: Dataset/train/5/22.jpg  \n",
            "  inflating: Dataset/train/5/23.jpg  \n",
            "  inflating: Dataset/train/5/24.jpg  \n",
            "  inflating: Dataset/train/5/25.jpg  \n",
            "  inflating: Dataset/train/5/26.jpg  \n",
            "  inflating: Dataset/train/5/27.jpg  \n",
            "  inflating: Dataset/train/5/28.jpg  \n",
            "  inflating: Dataset/train/5/29.jpg  \n",
            "  inflating: Dataset/train/5/3.jpg   \n",
            "  inflating: Dataset/train/5/30.jpg  \n",
            "  inflating: Dataset/train/5/31.jpg  \n",
            "  inflating: Dataset/train/5/32.jpg  \n",
            "  inflating: Dataset/train/5/33.jpg  \n",
            "  inflating: Dataset/train/5/34.jpg  \n",
            "  inflating: Dataset/train/5/35.jpg  \n",
            "  inflating: Dataset/train/5/36.jpg  \n",
            "  inflating: Dataset/train/5/37.jpg  \n",
            "  inflating: Dataset/train/5/38.jpg  \n",
            "  inflating: Dataset/train/5/39.jpg  \n",
            "  inflating: Dataset/train/5/4.jpg   \n",
            "  inflating: Dataset/train/5/40.jpg  \n",
            "  inflating: Dataset/train/5/41.jpg  \n",
            "  inflating: Dataset/train/5/42.jpg  \n",
            "  inflating: Dataset/train/5/43.jpg  \n",
            "  inflating: Dataset/train/5/44.jpg  \n",
            "  inflating: Dataset/train/5/45.jpg  \n",
            " extracting: Dataset/train/5/46.jpg  \n",
            "  inflating: Dataset/train/5/47.jpg  \n",
            "  inflating: Dataset/train/5/48.jpg  \n",
            "  inflating: Dataset/train/5/49.jpg  \n",
            "  inflating: Dataset/train/5/5.jpg   \n",
            "  inflating: Dataset/train/5/50.jpg  \n",
            "  inflating: Dataset/train/5/51.jpg  \n",
            "  inflating: Dataset/train/5/52.jpg  \n",
            " extracting: Dataset/train/5/53.jpg  \n",
            "  inflating: Dataset/train/5/54.jpg  \n",
            "  inflating: Dataset/train/5/55.jpg  \n",
            "  inflating: Dataset/train/5/56.jpg  \n",
            "  inflating: Dataset/train/5/57.jpg  \n",
            "  inflating: Dataset/train/5/58.jpg  \n",
            "  inflating: Dataset/train/5/59.jpg  \n",
            "  inflating: Dataset/train/5/6.jpg   \n",
            " extracting: Dataset/train/5/60.jpg  \n",
            "  inflating: Dataset/train/5/61.jpg  \n",
            "  inflating: Dataset/train/5/62.jpg  \n",
            "  inflating: Dataset/train/5/63.jpg  \n",
            " extracting: Dataset/train/5/64.jpg  \n",
            " extracting: Dataset/train/5/65.jpg  \n",
            "  inflating: Dataset/train/5/66.jpg  \n",
            "  inflating: Dataset/train/5/67.jpg  \n",
            "  inflating: Dataset/train/5/68.jpg  \n",
            "  inflating: Dataset/train/5/69.jpg  \n",
            "  inflating: Dataset/train/5/7.jpg   \n",
            "  inflating: Dataset/train/5/70.jpg  \n",
            "  inflating: Dataset/train/5/71.jpg  \n",
            "  inflating: Dataset/train/5/72.jpg  \n",
            "  inflating: Dataset/train/5/73.jpg  \n",
            " extracting: Dataset/train/5/74.jpg  \n",
            "  inflating: Dataset/train/5/75.jpg  \n",
            "  inflating: Dataset/train/5/76.jpg  \n",
            "  inflating: Dataset/train/5/77.jpg  \n",
            "  inflating: Dataset/train/5/78.jpg  \n",
            "  inflating: Dataset/train/5/79.jpg  \n",
            "  inflating: Dataset/train/5/8.jpg   \n",
            "  inflating: Dataset/train/5/80.jpg  \n",
            "  inflating: Dataset/train/5/81.jpg  \n",
            "  inflating: Dataset/train/5/82.jpg  \n",
            " extracting: Dataset/train/5/83.jpg  \n",
            "  inflating: Dataset/train/5/84.jpg  \n",
            "  inflating: Dataset/train/5/85.jpg  \n",
            "  inflating: Dataset/train/5/86.jpg  \n",
            "  inflating: Dataset/train/5/87.jpg  \n",
            "  inflating: Dataset/train/5/88.jpg  \n",
            "  inflating: Dataset/train/5/89.jpg  \n",
            "  inflating: Dataset/train/5/9.jpg   \n",
            "  inflating: Dataset/train/5/90.jpg  \n",
            " extracting: Dataset/train/5/91.jpg  \n",
            "  inflating: Dataset/train/5/92.jpg  \n",
            "  inflating: Dataset/train/5/93.jpg  \n",
            "  inflating: Dataset/train/5/94.jpg  \n",
            "  inflating: Dataset/train/5/95.jpg  \n",
            "  inflating: Dataset/train/5/96.jpg  \n",
            "  inflating: Dataset/train/5/97.jpg  \n",
            " extracting: Dataset/train/5/98.jpg  \n",
            "  inflating: Dataset/train/5/99.jpg  \n"
          ]
        }
      ],
      "source": [
        "!unzip Dataset.zip"
      ]
    },
    {
      "cell_type": "markdown",
      "metadata": {
        "id": "yk8gOSn2f17k"
      },
      "source": [
        "## Loading Our Data and Performing Data Augmentation"
      ]
    },
    {
      "cell_type": "code",
      "execution_count": null,
      "metadata": {
        "colab": {
          "base_uri": "https://localhost:8080/"
        },
        "id": "Hgge6h4g6T48",
        "outputId": "216266c1-dfc6-4431-95a7-3d466aab7830"
      },
      "outputs": [
        {
          "output_type": "stream",
          "name": "stdout",
          "text": [
            "Found 594 images belonging to 6 classes.\n",
            "Found 30 images belonging to 6 classes.\n"
          ]
        }
      ],
      "source": [
        "#performing data agumentation to train data\n",
        "x_train = train_datagen.flow_from_directory(r'/content/Dataset/train',\n",
        "                                            target_size=(64, 64),\n",
        "                                            batch_size=3,\n",
        "                                            color_mode='grayscale',\n",
        "                                            class_mode='categorical')\n",
        "#performing data agumentation to test data\n",
        "x_test = test_datagen.flow_from_directory(r'/content/Dataset/test',\n",
        "                                          target_size=(64, 64),\n",
        "                                          batch_size=3,\n",
        "                                          color_mode='grayscale',\n",
        "                                          class_mode='categorical') "
      ]
    },
    {
      "cell_type": "code",
      "execution_count": null,
      "metadata": {
        "colab": {
          "base_uri": "https://localhost:8080/"
        },
        "id": "lHQO2B6K62f6",
        "outputId": "0b0e825b-470b-4c4d-9f8f-1a3533756498"
      },
      "outputs": [
        {
          "output_type": "stream",
          "name": "stdout",
          "text": [
            "{'0': 0, '1': 1, '2': 2, '3': 3, '4': 4, '5': 5}\n"
          ]
        }
      ],
      "source": [
        "print(x_train.class_indices)#checking the number of classes"
      ]
    },
    {
      "cell_type": "markdown",
      "metadata": {
        "id": "a8haLvas7bSq"
      },
      "source": [
        "## Initializing The Model"
      ]
    },
    {
      "cell_type": "code",
      "execution_count": null,
      "metadata": {
        "id": "7bttv9xa7weT"
      },
      "outputs": [],
      "source": [
        "# Initializing the CNN\n",
        "model = Sequential()"
      ]
    },
    {
      "cell_type": "markdown",
      "metadata": {
        "id": "_QZKDXCh79Yq"
      },
      "source": [
        "## Adding CNN Layers"
      ]
    },
    {
      "cell_type": "code",
      "execution_count": null,
      "metadata": {
        "id": "pfJ9Ixyb8ABp"
      },
      "outputs": [],
      "source": [
        "# First convolution layer and pooling\n",
        "model.add(Convolution2D(32, (3, 3), input_shape=(64, 64, 1), activation='relu'))\n",
        "model.add(MaxPooling2D(pool_size=(2, 2)))"
      ]
    },
    {
      "cell_type": "code",
      "execution_count": null,
      "metadata": {
        "id": "TPYQE6C68G-Z"
      },
      "outputs": [],
      "source": [
        "# Second convolution layer and pooling\n",
        "model.add(Convolution2D(32, (3, 3), activation='relu'))\n",
        "# input_shape is going to be the pooled feature maps from the previous convolution layer\n",
        "model.add(MaxPooling2D(pool_size=(2,2)))"
      ]
    },
    {
      "cell_type": "code",
      "execution_count": null,
      "metadata": {
        "id": "waTLHcm58L9j"
      },
      "outputs": [],
      "source": [
        "# Flattening the layers i.e. input layer\n",
        "model.add(Flatten())"
      ]
    },
    {
      "cell_type": "markdown",
      "metadata": {
        "id": "KdOYbD5h8TiQ"
      },
      "source": [
        "## Adding Dense Layers"
      ]
    },
    {
      "cell_type": "code",
      "execution_count": null,
      "metadata": {
        "id": "k1bqUf-e8aLz"
      },
      "outputs": [],
      "source": [
        "# Adding a fully connected layer, i.e. Hidden Layer\n",
        "model.add(Dense(units=512 , activation='relu'))"
      ]
    },
    {
      "cell_type": "code",
      "execution_count": null,
      "metadata": {
        "id": "ytwpfFKb8fG-"
      },
      "outputs": [],
      "source": [
        "# softmax for categorical analysis, Output Layer\n",
        "model.add(Dense(units=6, activation='softmax')) "
      ]
    },
    {
      "cell_type": "code",
      "execution_count": null,
      "metadata": {
        "colab": {
          "base_uri": "https://localhost:8080/"
        },
        "id": "Hmw5Jo7T8mH6",
        "outputId": "7d4967b6-5850-44f5-d929-f832bdd5b1bc"
      },
      "outputs": [
        {
          "output_type": "stream",
          "name": "stdout",
          "text": [
            "Model: \"sequential\"\n",
            "_________________________________________________________________\n",
            " Layer (type)                Output Shape              Param #   \n",
            "=================================================================\n",
            " conv2d (Conv2D)             (None, 62, 62, 32)        320       \n",
            "                                                                 \n",
            " max_pooling2d (MaxPooling2D  (None, 31, 31, 32)       0         \n",
            " )                                                               \n",
            "                                                                 \n",
            " conv2d_1 (Conv2D)           (None, 29, 29, 32)        9248      \n",
            "                                                                 \n",
            " max_pooling2d_1 (MaxPooling  (None, 14, 14, 32)       0         \n",
            " 2D)                                                             \n",
            "                                                                 \n",
            " flatten (Flatten)           (None, 6272)              0         \n",
            "                                                                 \n",
            " dense (Dense)               (None, 512)               3211776   \n",
            "                                                                 \n",
            " dense_1 (Dense)             (None, 6)                 3078      \n",
            "                                                                 \n",
            "=================================================================\n",
            "Total params: 3,224,422\n",
            "Trainable params: 3,224,422\n",
            "Non-trainable params: 0\n",
            "_________________________________________________________________\n"
          ]
        }
      ],
      "source": [
        "model.summary()#summary of our model"
      ]
    },
    {
      "cell_type": "markdown",
      "metadata": {
        "id": "hlBI_Uzo80mL"
      },
      "source": [
        "## Configure The Learning Process"
      ]
    },
    {
      "cell_type": "code",
      "execution_count": null,
      "metadata": {
        "id": "05iXxK9a82zi"
      },
      "outputs": [],
      "source": [
        "# Compiling the CNN\n",
        "# categorical_crossentropy for more than 2\n",
        "model.compile(optimizer='adam', loss='categorical_crossentropy', metrics=['accuracy']) "
      ]
    },
    {
      "cell_type": "markdown",
      "metadata": {
        "id": "NbL61hKw9KZM"
      },
      "source": [
        "## Train The Model"
      ]
    },
    {
      "cell_type": "code",
      "execution_count": null,
      "metadata": {
        "colab": {
          "base_uri": "https://localhost:8080/"
        },
        "id": "C42ovjvM9MqF",
        "outputId": "490d6c0c-0fd4-40a6-e18c-e3644130aa40"
      },
      "outputs": [
        {
          "output_type": "stream",
          "name": "stdout",
          "text": [
            "Epoch 1/25\n"
          ]
        },
        {
          "output_type": "stream",
          "name": "stderr",
          "text": [
            "/usr/local/lib/python3.7/dist-packages/ipykernel_launcher.py:6: UserWarning: `Model.fit_generator` is deprecated and will be removed in a future version. Please use `Model.fit`, which supports generators.\n",
            "  \n"
          ]
        },
        {
          "output_type": "stream",
          "name": "stdout",
          "text": [
            "198/198 [==============================] - 10s 7ms/step - loss: 1.3351 - accuracy: 0.4663 - val_loss: 0.5319 - val_accuracy: 0.7667\n",
            "Epoch 2/25\n",
            "198/198 [==============================] - 1s 6ms/step - loss: 0.6197 - accuracy: 0.7508 - val_loss: 0.4076 - val_accuracy: 0.8667\n",
            "Epoch 3/25\n",
            "198/198 [==============================] - 2s 9ms/step - loss: 0.4441 - accuracy: 0.8165 - val_loss: 0.3449 - val_accuracy: 0.8667\n",
            "Epoch 4/25\n",
            "198/198 [==============================] - 1s 6ms/step - loss: 0.2914 - accuracy: 0.8939 - val_loss: 0.3476 - val_accuracy: 0.8667\n",
            "Epoch 5/25\n",
            "198/198 [==============================] - 1s 6ms/step - loss: 0.2248 - accuracy: 0.9175 - val_loss: 0.2770 - val_accuracy: 0.9667\n",
            "Epoch 6/25\n",
            "198/198 [==============================] - 1s 6ms/step - loss: 0.1729 - accuracy: 0.9360 - val_loss: 0.2915 - val_accuracy: 0.9333\n",
            "Epoch 7/25\n",
            "198/198 [==============================] - 1s 6ms/step - loss: 0.1187 - accuracy: 0.9562 - val_loss: 0.3042 - val_accuracy: 0.9667\n",
            "Epoch 8/25\n",
            "198/198 [==============================] - 1s 6ms/step - loss: 0.1171 - accuracy: 0.9579 - val_loss: 0.7647 - val_accuracy: 0.8000\n",
            "Epoch 9/25\n",
            "198/198 [==============================] - 1s 6ms/step - loss: 0.1443 - accuracy: 0.9529 - val_loss: 0.1897 - val_accuracy: 0.9667\n",
            "Epoch 10/25\n",
            "198/198 [==============================] - 1s 6ms/step - loss: 0.0761 - accuracy: 0.9714 - val_loss: 0.3396 - val_accuracy: 0.9667\n",
            "Epoch 11/25\n",
            "198/198 [==============================] - 1s 6ms/step - loss: 0.0596 - accuracy: 0.9781 - val_loss: 0.3649 - val_accuracy: 0.9667\n",
            "Epoch 12/25\n",
            "198/198 [==============================] - 1s 6ms/step - loss: 0.0926 - accuracy: 0.9663 - val_loss: 0.3156 - val_accuracy: 0.9667\n",
            "Epoch 13/25\n",
            "198/198 [==============================] - 1s 6ms/step - loss: 0.1175 - accuracy: 0.9579 - val_loss: 0.3028 - val_accuracy: 0.9667\n",
            "Epoch 14/25\n",
            "198/198 [==============================] - 1s 6ms/step - loss: 0.0661 - accuracy: 0.9747 - val_loss: 0.0796 - val_accuracy: 0.9667\n",
            "Epoch 15/25\n",
            "198/198 [==============================] - 1s 6ms/step - loss: 0.0442 - accuracy: 0.9899 - val_loss: 0.4241 - val_accuracy: 0.9333\n",
            "Epoch 16/25\n",
            "198/198 [==============================] - 1s 6ms/step - loss: 0.0611 - accuracy: 0.9781 - val_loss: 0.2781 - val_accuracy: 0.9667\n",
            "Epoch 17/25\n",
            "198/198 [==============================] - 1s 6ms/step - loss: 0.0333 - accuracy: 0.9832 - val_loss: 0.4631 - val_accuracy: 0.9000\n",
            "Epoch 18/25\n",
            "198/198 [==============================] - 1s 6ms/step - loss: 0.1167 - accuracy: 0.9731 - val_loss: 0.3917 - val_accuracy: 0.9333\n",
            "Epoch 19/25\n",
            "198/198 [==============================] - 1s 6ms/step - loss: 0.0727 - accuracy: 0.9781 - val_loss: 0.3366 - val_accuracy: 0.9667\n",
            "Epoch 20/25\n",
            "198/198 [==============================] - 1s 6ms/step - loss: 0.0126 - accuracy: 0.9966 - val_loss: 0.4006 - val_accuracy: 0.9667\n",
            "Epoch 21/25\n",
            "198/198 [==============================] - 1s 6ms/step - loss: 0.0169 - accuracy: 0.9966 - val_loss: 0.5017 - val_accuracy: 0.9667\n",
            "Epoch 22/25\n",
            "198/198 [==============================] - 1s 6ms/step - loss: 0.0241 - accuracy: 0.9949 - val_loss: 0.4150 - val_accuracy: 0.9667\n",
            "Epoch 23/25\n",
            "198/198 [==============================] - 1s 6ms/step - loss: 0.0196 - accuracy: 0.9933 - val_loss: 0.3028 - val_accuracy: 0.9667\n",
            "Epoch 24/25\n",
            "198/198 [==============================] - 1s 6ms/step - loss: 0.0341 - accuracy: 0.9865 - val_loss: 0.4578 - val_accuracy: 0.9667\n",
            "Epoch 25/25\n",
            "198/198 [==============================] - 1s 6ms/step - loss: 0.0491 - accuracy: 0.9832 - val_loss: 0.5198 - val_accuracy: 0.9667\n"
          ]
        },
        {
          "output_type": "execute_result",
          "data": {
            "text/plain": [
              "<keras.callbacks.History at 0x7f3c9f32c210>"
            ]
          },
          "metadata": {},
          "execution_count": 19
        }
      ],
      "source": [
        "# It will generate packets of train and test data for training\n",
        "model.fit_generator(x_train,\n",
        "                    steps_per_epoch = 594/3 , \n",
        "                    epochs = 25, \n",
        "                    validation_data = x_test,\n",
        "                    validation_steps = 30/3 )"
      ]
    },
    {
      "cell_type": "markdown",
      "metadata": {
        "id": "-yGhol5d9woV"
      },
      "source": [
        "## Save The Model"
      ]
    },
    {
      "cell_type": "code",
      "execution_count": null,
      "metadata": {
        "id": "Usg-gatk90b7"
      },
      "outputs": [],
      "source": [
        "# Save the model\n",
        "model.save('gesture.h5')"
      ]
    },
    {
      "cell_type": "code",
      "execution_count": null,
      "metadata": {
        "id": "BImkDrQJ94CV"
      },
      "outputs": [],
      "source": [
        "model_json = model.to_json()\n",
        "with open(\"model-bw.json\", \"w\") as json_file:\n",
        "    json_file.write(model_json)"
      ]
    },
    {
      "cell_type": "markdown",
      "metadata": {
        "id": "XlJXpv3q-NE8"
      },
      "source": [
        "# Test The Model"
      ]
    },
    {
      "cell_type": "markdown",
      "metadata": {
        "id": "bdMkPTny-Yno"
      },
      "source": [
        "## Importing Libraries"
      ]
    },
    {
      "cell_type": "code",
      "execution_count": null,
      "metadata": {
        "id": "QOAaQ-Uh-StC"
      },
      "outputs": [],
      "source": [
        "from tensorflow.keras.models import load_model\n",
        "from tensorflow.keras.preprocessing import image\n",
        "model = load_model(\"gesture.h5\") #loading the model for testing\n",
        "path = \"/content/Dataset/test/3/2.jpg\""
      ]
    },
    {
      "cell_type": "markdown",
      "metadata": {
        "id": "H2pN1yDRB2Oc"
      },
      "source": [
        "## Plotting the image"
      ]
    },
    {
      "cell_type": "code",
      "execution_count": null,
      "metadata": {
        "colab": {
          "base_uri": "https://localhost:8080/",
          "height": 286
        },
        "id": "da0m3HIAB9MU",
        "outputId": "465dca56-eaeb-4d84-8c75-6dbc6031a273"
      },
      "outputs": [
        {
          "output_type": "stream",
          "name": "stdout",
          "text": [
            "Populating the interactive namespace from numpy and matplotlib\n"
          ]
        },
        {
          "output_type": "display_data",
          "data": {
            "text/plain": [
              "<Figure size 432x288 with 1 Axes>"
            ],
            "image/png": "[encoded data removed]"
          },
          "metadata": {
            "needs_background": "light"
          }
        }
      ],
      "source": [
        "%pylab inline\n",
        "import matplotlib.pyplot as plt\n",
        "import matplotlib.image as mpimg\n",
        "imgs = mpimg.imread(path)\n",
        "imgplot = plt.imshow(imgs)\n",
        "plt.show()"
      ]
    },
    {
      "cell_type": "code",
      "execution_count": null,
      "metadata": {
        "colab": {
          "base_uri": "https://localhost:8080/"
        },
        "id": "kWwH9s1sCERx",
        "outputId": "07277641-f921-4e4b-b1d8-fc0a9bad833d"
      },
      "outputs": [
        {
          "output_type": "execute_result",
          "data": {
            "text/plain": [
              "(64, 64, 1)"
            ]
          },
          "metadata": {},
          "execution_count": 26
        }
      ],
      "source": [
        "#loading of the image\n",
        "img = image.load_img(path,\n",
        "                     color_mode='grayscale',\n",
        "                     target_size= (64,64))\n",
        "x = image.img_to_array(img)#image to array\n",
        "x.shape"
      ]
    },
    {
      "cell_type": "code",
      "execution_count": null,
      "metadata": {
        "colab": {
          "base_uri": "https://localhost:8080/"
        },
        "id": "6gE6vzpeCIgj",
        "outputId": "00947e9e-6176-4b9b-8d17-b98dc5f6f585"
      },
      "outputs": [
        {
          "output_type": "execute_result",
          "data": {
            "text/plain": [
              "numpy.ndarray"
            ]
          },
          "metadata": {},
          "execution_count": 27
        }
      ],
      "source": [
        "type(x)"
      ]
    },
    {
      "cell_type": "code",
      "execution_count": null,
      "metadata": {
        "id": "C21vEe5-CM_Z"
      },
      "outputs": [],
      "source": [
        "#changing the shape\n",
        "x = np.expand_dims(x,axis = 0)"
      ]
    },
    {
      "cell_type": "code",
      "execution_count": null,
      "metadata": {
        "colab": {
          "base_uri": "https://localhost:8080/"
        },
        "id": "OmkvZCiZCRKJ",
        "outputId": "315ff4e8-0792-4c2f-e605-68afce1f7e7a"
      },
      "outputs": [
        {
          "output_type": "execute_result",
          "data": {
            "text/plain": [
              "(1, 64, 64, 1)"
            ]
          },
          "metadata": {},
          "execution_count": 29
        }
      ],
      "source": [
        "x.shape"
      ]
    },
    {
      "cell_type": "markdown",
      "metadata": {
        "id": "vqAffTmRCXaY"
      },
      "source": [
        "## Predicting our results"
      ]
    },
    {
      "cell_type": "code",
      "execution_count": null,
      "metadata": {
        "colab": {
          "base_uri": "https://localhost:8080/"
        },
        "id": "GY37lm61CaoG",
        "outputId": "aa17ca00-7da1-4734-a175-1230dd39c564"
      },
      "outputs": [
        {
          "output_type": "stream",
          "name": "stdout",
          "text": [
            "1/1 [==============================] - 0s 128ms/step\n"
          ]
        }
      ],
      "source": [
        "pred = np.argmax(model.predict(x), axis=-1)#predicting the classes\n",
        "\n"
      ]
    },
    {
      "cell_type": "code",
      "execution_count": null,
      "metadata": {
        "colab": {
          "base_uri": "https://localhost:8080/",
          "height": 36
        },
        "id": "SUvmUjjxhDWI",
        "outputId": "6568edf8-2ef9-4162-b5c3-6a9db8adc5ee"
      },
      "outputs": [
        {
          "output_type": "execute_result",
          "data": {
            "text/plain": [
              "'3'"
            ],
            "application/vnd.google.colaboratory.intrinsic+json": {
              "type": "string"
            }
          },
          "metadata": {},
          "execution_count": 32
        }
      ],
      "source": [
        "index=['0','1','2','3','4','5']\n",
        "result=str(index[pred[0]])\n",
        "result"
      ]
    },
    {
      "cell_type": "code",
      "execution_count": null,
      "metadata": {
        "colab": {
          "base_uri": "https://localhost:8080/"
        },
        "id": "MBFBLLce1ZBA",
        "outputId": "ca32aa2f-5706-4c20-f866-fa9820ac3c5d"
      },
      "outputs": [
        {
          "output_type": "stream",
          "name": "stdout",
          "text": [
            "1/1 [==============================] - 0s 31ms/step\n",
            "1/1 [==============================] - 0s 33ms/step\n",
            "1/1 [==============================] - 0s 16ms/step\n",
            "1/1 [==============================] - 0s 18ms/step\n",
            "1/1 [==============================] - 0s 15ms/step\n",
            "1/1 [==============================] - 0s 16ms/step\n",
            "1/1 [==============================] - 0s 15ms/step\n",
            "1/1 [==============================] - 0s 17ms/step\n",
            "1/1 [==============================] - 0s 15ms/step\n",
            "1/1 [==============================] - 0s 17ms/step\n",
            "1/1 [==============================] - 0s 15ms/step\n",
            "1/1 [==============================] - 0s 15ms/step\n",
            "1/1 [==============================] - 0s 15ms/step\n",
            "1/1 [==============================] - 0s 17ms/step\n",
            "1/1 [==============================] - 0s 16ms/step\n",
            "1/1 [==============================] - 0s 18ms/step\n",
            "1/1 [==============================] - 0s 17ms/step\n",
            "1/1 [==============================] - 0s 16ms/step\n",
            "1/1 [==============================] - 0s 15ms/step\n",
            "1/1 [==============================] - 0s 14ms/step\n",
            "1/1 [==============================] - 0s 13ms/step\n",
            "1/1 [==============================] - 0s 13ms/step\n",
            "1/1 [==============================] - 0s 15ms/step\n",
            "1/1 [==============================] - 0s 18ms/step\n",
            "1/1 [==============================] - 0s 16ms/step\n",
            "1/1 [==============================] - 0s 13ms/step\n",
            "1/1 [==============================] - 0s 16ms/step\n",
            "1/1 [==============================] - 0s 15ms/step\n",
            "1/1 [==============================] - 0s 15ms/step\n",
            "1/1 [==============================] - 0s 14ms/step\n",
            "[array([0]), array([0]), array([0]), array([0]), array([0]), array([1]), array([1]), array([1]), array([1]), array([1]), array([2]), array([2]), array([1]), array([2]), array([2]), array([3]), array([3]), array([3]), array([3]), array([3]), array([4]), array([4]), array([4]), array([4]), array([4]), array([5]), array([5]), array([5]), array([5]), array([5])]\n"
          ]
        }
      ],
      "source": [
        "import numpy as np\n",
        "p = []\n",
        "\n",
        "for i in range(0,6):\n",
        "    for j in range(0,5):\n",
        "        path = \"/content/Dataset/test/\"+str(i)+\"//\"+str(j)+\".jpg\"\n",
        "        img = image.load_img(path,color_mode = \"grayscale\",target_size= (64,64))\n",
        "        x = image.img_to_array(img)\n",
        "        x = np.expand_dims(x,axis = 0)\n",
        "        pred = np.argmax(model.predict(x), axis=-1)\n",
        "        p.append(pred)\n",
        "\n",
        "print(p)"
      ]
    },
    {
      "cell_type": "code",
      "execution_count": null,
      "metadata": {
        "colab": {
          "base_uri": "https://localhost:8080/"
        },
        "id": "B0CcC1DP2m6K",
        "outputId": "8d54a95b-48e3-4649-d351-9f6da7495f08"
      },
      "outputs": [
        {
          "output_type": "stream",
          "name": "stdout",
          "text": [
            "['0', '0', '0', '0', '0', '1', '1', '1', '1', '1', '2', '2', '1', '2', '2', '3', '3', '3', '3', '3', '4', '4', '4', '4', '4', '5', '5', '5', '5', '5']\n"
          ]
        }
      ],
      "source": [
        "result = []\n",
        "index=['0','1','2','3','4','5']\n",
        "for i in p:\n",
        "    result.append(index[i[0]])\n",
        "    \n",
        "print(result)"
      ]
    }
  ],
  "metadata": {
    "accelerator": "GPU",
    "colab": {
      "provenance": []
    },
    "gpuClass": "standard",
    "kernelspec": {
      "display_name": "Python 3",
      "name": "python3"
    },
    "language_info": {
      "name": "python"
    }
  },
  "nbformat": 4,
  "nbformat_minor": 0
}